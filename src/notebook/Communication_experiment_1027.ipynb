{
 "cells": [
  {
   "cell_type": "code",
   "execution_count": 2,
   "metadata": {
    "collapsed": true
   },
   "outputs": [],
   "source": [
    "from pydnp3 import opendnp3, openpal, asiopal, asiodnp3"
   ]
  },
  {
   "cell_type": "code",
   "execution_count": 2,
   "outputs": [],
   "source": [],
   "metadata": {
    "collapsed": false
   }
  },
  {
   "cell_type": "code",
   "execution_count": 3,
   "outputs": [
    {
     "name": "stdout",
     "output_type": "stream",
     "text": [
      "ms(1666883022156) INFO    manager - Starting thread (0)\n",
      "ms(1666883022156) INFO    manager - Starting thread (1)\n"
     ]
    }
   ],
   "source": [
    "concurrencyHint = 2\n",
    "log_handler=asiodnp3.ConsoleLogger().Create()\n",
    "manager = asiodnp3.DNP3Manager(concurrencyHint, log_handler)\n",
    "# manager.Shutdown()"
   ],
   "metadata": {
    "collapsed": false
   }
  },
  {
   "cell_type": "code",
   "execution_count": 8,
   "outputs": [
    {
     "name": "stdout",
     "output_type": "stream",
     "text": [
      "ms(1666882788509) INFO    manager - Exiting thread (0)\n"
     ]
    }
   ],
   "source": [
    "# manager.Shutdown()"
   ],
   "metadata": {
    "collapsed": false
   }
  },
  {
   "cell_type": "code",
   "execution_count": 11,
   "outputs": [
    {
     "data": {
      "text/plain": "['__init__',\n '__doc__',\n '__module__',\n '__del__',\n 'Shutdown',\n 'AddTCPClient',\n 'AddTCPServer',\n 'AddSerial',\n 'AddTLSClient',\n 'AddTLSServer',\n 'CreateListener',\n '__new__',\n '__repr__',\n '__hash__',\n '__str__',\n '__getattribute__',\n '__setattr__',\n '__delattr__',\n '__lt__',\n '__le__',\n '__eq__',\n '__ne__',\n '__gt__',\n '__ge__',\n '__reduce_ex__',\n '__reduce__',\n '__subclasshook__',\n '__init_subclass__',\n '__format__',\n '__sizeof__',\n '__dir__',\n '__class__']"
     },
     "execution_count": 11,
     "metadata": {},
     "output_type": "execute_result"
    }
   ],
   "source": [
    "manager.__dir__()"
   ],
   "metadata": {
    "collapsed": false
   }
  },
  {
   "cell_type": "code",
   "execution_count": 4,
   "outputs": [],
   "source": [
    "level = opendnp3.levels.NORMAL | opendnp3.levels.ALL_COMMS\n",
    "retry = asiopal.ChannelRetry().Default()\n",
    "outstation_ip_str: str = \"127.0.0.1\"\n",
    "masterstation_id_int: int = 2\n",
    "masterstation_ip_str: str = \"0.0.0.0\"\n",
    "port: int = 20000\n",
    "listener=asiodnp3.PrintingChannelListener().Create()\n",
    "\n",
    "channel = manager.AddTCPClient(id=\"tcpclient\",\n",
    "                                    levels=level,\n",
    "                                    retry=retry,\n",
    "                                    host=outstation_ip_str,\n",
    "                                    local=masterstation_ip_str,\n",
    "                                    port=port,\n",
    "                                    listener=listener)"
   ],
   "metadata": {
    "collapsed": false
   }
  },
  {
   "cell_type": "code",
   "execution_count": 9,
   "outputs": [
    {
     "data": {
      "text/plain": "['__init__',\n '__doc__',\n '__module__',\n 'GetStatistics',\n 'GetLogFilters',\n 'SetLogFilters',\n 'AddMaster',\n 'AddOutstation',\n 'Shutdown',\n '__new__',\n '__repr__',\n '__hash__',\n '__str__',\n '__getattribute__',\n '__setattr__',\n '__delattr__',\n '__lt__',\n '__le__',\n '__eq__',\n '__ne__',\n '__gt__',\n '__ge__',\n '__reduce_ex__',\n '__reduce__',\n '__subclasshook__',\n '__init_subclass__',\n '__format__',\n '__sizeof__',\n '__dir__',\n '__class__']"
     },
     "execution_count": 9,
     "metadata": {},
     "output_type": "execute_result"
    }
   ],
   "source": [
    "channel.__dir__()"
   ],
   "metadata": {
    "collapsed": false
   }
  },
  {
   "cell_type": "code",
   "execution_count": 16,
   "outputs": [
    {
     "data": {
      "text/plain": "<pydnp3.openpal.LogFilters at 0x7f91d9e6f630>"
     },
     "execution_count": 16,
     "metadata": {},
     "output_type": "execute_result"
    }
   ],
   "source": [
    "channel.GetStatistics()\n",
    "channel.GetLogFilters()"
   ],
   "metadata": {
    "collapsed": false
   }
  },
  {
   "cell_type": "code",
   "execution_count": 17,
   "outputs": [
    {
     "data": {
      "text/plain": "['__init__',\n '__doc__',\n '__module__',\n 'channel',\n 'parser',\n '__new__',\n '__repr__',\n '__hash__',\n '__str__',\n '__getattribute__',\n '__setattr__',\n '__delattr__',\n '__lt__',\n '__le__',\n '__eq__',\n '__ne__',\n '__gt__',\n '__ge__',\n '__reduce_ex__',\n '__reduce__',\n '__subclasshook__',\n '__init_subclass__',\n '__format__',\n '__sizeof__',\n '__dir__',\n '__class__']"
     },
     "execution_count": 17,
     "metadata": {},
     "output_type": "execute_result"
    }
   ],
   "source": [
    "channel.GetStatistics().__dir__()"
   ],
   "metadata": {
    "collapsed": false
   }
  },
  {
   "cell_type": "code",
   "execution_count": 34,
   "outputs": [
    {
     "data": {
      "text/plain": "<pydnp3.opendnp3.LinkStatisticsChannel at 0x7f91d9fbd770>"
     },
     "execution_count": 34,
     "metadata": {},
     "output_type": "execute_result"
    }
   ],
   "source": [
    "channel.GetStatistics().channel"
   ],
   "metadata": {
    "collapsed": false
   }
  },
  {
   "cell_type": "code",
   "execution_count": 35,
   "outputs": [
    {
     "data": {
      "text/plain": "['__init__',\n '__doc__',\n '__module__',\n 'numOpen',\n 'numOpenFail',\n 'numClose',\n 'numBytesRx',\n 'numBytesTx',\n 'numLinkFrameTx',\n '__new__',\n '__repr__',\n '__hash__',\n '__str__',\n '__getattribute__',\n '__setattr__',\n '__delattr__',\n '__lt__',\n '__le__',\n '__eq__',\n '__ne__',\n '__gt__',\n '__ge__',\n '__reduce_ex__',\n '__reduce__',\n '__subclasshook__',\n '__init_subclass__',\n '__format__',\n '__sizeof__',\n '__dir__',\n '__class__']"
     },
     "execution_count": 35,
     "metadata": {},
     "output_type": "execute_result"
    }
   ],
   "source": [
    "channel.GetStatistics().channel.__dir__()"
   ],
   "metadata": {
    "collapsed": false
   }
  },
  {
   "cell_type": "code",
   "execution_count": 36,
   "outputs": [
    {
     "data": {
      "text/plain": "0"
     },
     "execution_count": 36,
     "metadata": {},
     "output_type": "execute_result"
    }
   ],
   "source": [
    "channel.GetStatistics().channel.numOpen"
   ],
   "metadata": {
    "collapsed": false
   }
  },
  {
   "cell_type": "code",
   "execution_count": null,
   "outputs": [],
   "source": [],
   "metadata": {
    "collapsed": false
   }
  },
  {
   "cell_type": "code",
   "execution_count": 25,
   "outputs": [
    {
     "data": {
      "text/plain": "'<pydnp3.opendnp3.LinkStatistics object at 0x7f91da1416f0>'"
     },
     "execution_count": 25,
     "metadata": {},
     "output_type": "execute_result"
    }
   ],
   "source": [
    "channel.GetStatistics().__repr__()"
   ],
   "metadata": {
    "collapsed": false
   }
  },
  {
   "cell_type": "code",
   "execution_count": 26,
   "outputs": [],
   "source": [
    "stack_config = asiodnp3.MasterStackConfig()"
   ],
   "metadata": {
    "collapsed": false
   }
  },
  {
   "cell_type": "code",
   "execution_count": 27,
   "outputs": [
    {
     "data": {
      "text/plain": "['__init__',\n '__doc__',\n '__module__',\n 'IsMaster',\n 'UseConfirms',\n 'NumRetry',\n 'LocalAddr',\n 'RemoteAddr',\n 'Timeout',\n 'KeepAliveTimeout',\n '__new__',\n '__repr__',\n '__hash__',\n '__str__',\n '__getattribute__',\n '__setattr__',\n '__delattr__',\n '__lt__',\n '__le__',\n '__eq__',\n '__ne__',\n '__gt__',\n '__ge__',\n '__reduce_ex__',\n '__reduce__',\n '__subclasshook__',\n '__init_subclass__',\n '__format__',\n '__sizeof__',\n '__dir__',\n '__class__']"
     },
     "execution_count": 27,
     "metadata": {},
     "output_type": "execute_result"
    }
   ],
   "source": [
    "stack_config.link.__dir__()"
   ],
   "metadata": {
    "collapsed": false
   }
  },
  {
   "cell_type": "code",
   "execution_count": 33,
   "outputs": [
    {
     "ename": "TypeError",
     "evalue": "'pydnp3.openpal.TimeDuration' object is not callable",
     "output_type": "error",
     "traceback": [
      "\u001B[0;31m---------------------------------------------------------------------------\u001B[0m",
      "\u001B[0;31mTypeError\u001B[0m                                 Traceback (most recent call last)",
      "Input \u001B[0;32mIn [33]\u001B[0m, in \u001B[0;36m<cell line: 5>\u001B[0;34m()\u001B[0m\n\u001B[1;32m      3\u001B[0m stack_config\u001B[38;5;241m.\u001B[39mlink\u001B[38;5;241m.\u001B[39mNumRetry\n\u001B[1;32m      4\u001B[0m stack_config\u001B[38;5;241m.\u001B[39mlink\u001B[38;5;241m.\u001B[39mTimeout\n\u001B[0;32m----> 5\u001B[0m \u001B[43mstack_config\u001B[49m\u001B[38;5;241;43m.\u001B[39;49m\u001B[43mlink\u001B[49m\u001B[38;5;241;43m.\u001B[39;49m\u001B[43mKeepAliveTimeout\u001B[49m\u001B[43m(\u001B[49m\u001B[43m)\u001B[49m\n",
      "\u001B[0;31mTypeError\u001B[0m: 'pydnp3.openpal.TimeDuration' object is not callable"
     ]
    }
   ],
   "source": [
    "stack_config.link.IsMaster\n",
    "stack_config.link.UseConfirms\n",
    "stack_config.link.NumRetry\n",
    "stack_config.link.Timeout\n",
    "stack_config.link.KeepAliveTimeout"
   ],
   "metadata": {
    "collapsed": false
   }
  },
  {
   "cell_type": "code",
   "execution_count": null,
   "outputs": [],
   "source": [
    "master = channel.AddMaster(id=\"master\",\n",
    "                                             SOEHandler=soe_handler,\n",
    "                                             # SOEHandler=asiodnp3.PrintingSOEHandler().Create(),\n",
    "                                             application=self.master_application,\n",
    "                                             config=self.stack_config)"
   ],
   "metadata": {
    "collapsed": false
   }
  }
 ],
 "metadata": {
  "kernelspec": {
   "display_name": "Python 3",
   "language": "python",
   "name": "python3"
  },
  "language_info": {
   "codemirror_mode": {
    "name": "ipython",
    "version": 2
   },
   "file_extension": ".py",
   "mimetype": "text/x-python",
   "name": "python",
   "nbconvert_exporter": "python",
   "pygments_lexer": "ipython2",
   "version": "2.7.6"
  }
 },
 "nbformat": 4,
 "nbformat_minor": 0
}
